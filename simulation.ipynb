{
 "cells": [
  {
   "cell_type": "code",
   "execution_count": 18,
   "id": "5b028830",
   "metadata": {},
   "outputs": [],
   "source": [
    "import viz\n",
    "import numpy as np\n",
    "import pandas as pd\n",
    "np.random.seed(8675309)"
   ]
  },
  {
   "cell_type": "markdown",
   "id": "8bdff1be",
   "metadata": {},
   "source": [
    "# How likely is it that you roll doubles when rolling two dice?"
   ]
  },
  {
   "cell_type": "code",
   "execution_count": 19,
   "id": "a3be8355",
   "metadata": {},
   "outputs": [
    {
     "data": {
      "text/plain": [
       "array([[2, 5],\n",
       "       [5, 1],\n",
       "       [1, 2],\n",
       "       ...,\n",
       "       [1, 6],\n",
       "       [3, 2],\n",
       "       [4, 1]])"
      ]
     },
     "execution_count": 19,
     "metadata": {},
     "output_type": "execute_result"
    }
   ],
   "source": [
    "#Simulation\n",
    "#roll 2 dice 36 times\n",
    "\n",
    "n_trials = nrows = 10000\n",
    "n_dice = ncols = 2\n",
    "\n",
    "rolls = np.random.choice([1, 2, 3, 4, 5, 6], n_trials * n_dice).reshape(nrows, ncols)\n",
    "rolls"
   ]
  },
  {
   "cell_type": "code",
   "execution_count": 20,
   "id": "73ac67a4",
   "metadata": {},
   "outputs": [
    {
     "data": {
      "text/plain": [
       "array([[False],\n",
       "       [False],\n",
       "       [False],\n",
       "       ...,\n",
       "       [False],\n",
       "       [False],\n",
       "       [False]])"
      ]
     },
     "execution_count": 20,
     "metadata": {},
     "output_type": "execute_result"
    }
   ],
   "source": [
    "doubles = np.diff(rolls) == 0\n",
    "doubles"
   ]
  },
  {
   "cell_type": "code",
   "execution_count": 21,
   "id": "9868e5ec",
   "metadata": {},
   "outputs": [
    {
     "data": {
      "text/plain": [
       "0.1643"
      ]
     },
     "execution_count": 21,
     "metadata": {},
     "output_type": "execute_result"
    }
   ],
   "source": [
    "doubles.mean()"
   ]
  },
  {
   "cell_type": "markdown",
   "id": "bb7e3ad3",
   "metadata": {},
   "source": [
    "# If you flip 8 coins, what is the probability of getting exactly 3 heads?"
   ]
  },
  {
   "cell_type": "code",
   "execution_count": 24,
   "id": "4b070146",
   "metadata": {},
   "outputs": [
    {
     "data": {
      "text/plain": [
       "array([[0, 0, 0, ..., 1, 0, 1],\n",
       "       [1, 1, 1, ..., 0, 1, 0],\n",
       "       [0, 0, 0, ..., 1, 1, 1],\n",
       "       ...,\n",
       "       [1, 1, 0, ..., 0, 1, 1],\n",
       "       [0, 0, 1, ..., 0, 1, 0],\n",
       "       [0, 1, 0, ..., 1, 0, 0]])"
      ]
     },
     "execution_count": 24,
     "metadata": {},
     "output_type": "execute_result"
    }
   ],
   "source": [
    "n_trials = nrows = 10000\n",
    "n_coins = ncols = 8\n",
    "\n",
    "flips = np.random.choice([0, 1], n_trials * n_coins).reshape(nrows, ncols)\n",
    "flips"
   ]
  },
  {
   "cell_type": "code",
   "execution_count": 31,
   "id": "2f10812e",
   "metadata": {},
   "outputs": [
    {
     "data": {
      "text/plain": [
       "array([ True, False, False, ..., False,  True,  True])"
      ]
     },
     "execution_count": 31,
     "metadata": {},
     "output_type": "execute_result"
    }
   ],
   "source": [
    "exact = np.sum(flips, axis=1) == 3\n",
    "exact"
   ]
  },
  {
   "cell_type": "code",
   "execution_count": 32,
   "id": "23641fb8",
   "metadata": {},
   "outputs": [
    {
     "data": {
      "text/plain": [
       "0.2163"
      ]
     },
     "execution_count": 32,
     "metadata": {},
     "output_type": "execute_result"
    }
   ],
   "source": [
    "exact.mean()"
   ]
  },
  {
   "cell_type": "markdown",
   "id": "7db368c0",
   "metadata": {},
   "source": [
    "# More than 3 heads?"
   ]
  },
  {
   "cell_type": "code",
   "execution_count": 38,
   "id": "9d117919",
   "metadata": {},
   "outputs": [
    {
     "data": {
      "text/plain": [
       "array([False,  True,  True, ...,  True, False, False])"
      ]
     },
     "execution_count": 38,
     "metadata": {},
     "output_type": "execute_result"
    }
   ],
   "source": [
    "more = np.sum(flips, axis=1) > 3\n",
    "more"
   ]
  },
  {
   "cell_type": "code",
   "execution_count": 39,
   "id": "26718981",
   "metadata": {},
   "outputs": [
    {
     "data": {
      "text/plain": [
       "0.6471"
      ]
     },
     "execution_count": 39,
     "metadata": {},
     "output_type": "execute_result"
    }
   ],
   "source": [
    "more.mean()"
   ]
  },
  {
   "cell_type": "markdown",
   "id": "a542042c",
   "metadata": {},
   "source": [
    "## There are approximitely 3 web development cohorts for every 1 data science cohort at Codeup. Assuming that Codeup randomly selects an alumni to put on a billboard, what are the odds that the two billboards I drive past both have data science students on them?"
   ]
  },
  {
   "cell_type": "code",
   "execution_count": 43,
   "id": "40c03f33",
   "metadata": {},
   "outputs": [
    {
     "data": {
      "text/plain": [
       "array([[1, 1],\n",
       "       [1, 1],\n",
       "       [1, 0],\n",
       "       ...,\n",
       "       [3, 3],\n",
       "       [0, 1],\n",
       "       [0, 3]])"
      ]
     },
     "execution_count": 43,
     "metadata": {},
     "output_type": "execute_result"
    }
   ],
   "source": [
    "n_trials = nrows = 10000\n",
    "n_bb = ncols = 2\n",
    "\n",
    "dsbb = np.random.choice([0, 1, 2, 3], n_trials * n_bb).reshape(nrows, ncols)\n",
    "dsbb"
   ]
  },
  {
   "cell_type": "code",
   "execution_count": 46,
   "id": "9a45a5a1",
   "metadata": {},
   "outputs": [
    {
     "data": {
      "text/plain": [
       "array([False, False, False, ...,  True, False, False])"
      ]
     },
     "execution_count": 46,
     "metadata": {},
     "output_type": "execute_result"
    }
   ],
   "source": [
    "ds = np.sum(dsbb, axis=1) == 6\n",
    "ds"
   ]
  },
  {
   "cell_type": "code",
   "execution_count": 47,
   "id": "fcd1f2b2",
   "metadata": {},
   "outputs": [
    {
     "data": {
      "text/plain": [
       "0.0611"
      ]
     },
     "execution_count": 47,
     "metadata": {},
     "output_type": "execute_result"
    }
   ],
   "source": [
    "ds.mean()"
   ]
  },
  {
   "cell_type": "markdown",
   "id": "6625af04",
   "metadata": {},
   "source": [
    "## Codeup students buy, on average, 3 poptart packages with a standard deviation of 1.5 a day from the snack vending machine. If on monday the machine is restocked with 17 poptart packages, how likely is it that I will be able to buy some poptarts on Friday afternoon? (Remember, if you have mean and standard deviation, use the np.random.normal) You'll need to make a judgement call on how to handle some of your values"
   ]
  },
  {
   "cell_type": "code",
   "execution_count": 55,
   "id": "e55b99b8",
   "metadata": {},
   "outputs": [
    {
     "data": {
      "text/plain": [
       "array([[4.63846828, 4.88862621, 0.43077123, 1.55575897],\n",
       "       [2.20082357, 3.30020975, 5.26003249, 4.10836919],\n",
       "       [1.49729545, 2.32946523, 4.24089711, 2.33352942],\n",
       "       ...,\n",
       "       [2.29743878, 3.77351374, 3.21717435, 1.42933605],\n",
       "       [1.34804237, 3.0824302 , 4.71261977, 2.79262174],\n",
       "       [0.74922587, 3.3677731 , 3.78397874, 5.87544482]])"
      ]
     },
     "execution_count": 55,
     "metadata": {},
     "output_type": "execute_result"
    }
   ],
   "source": [
    "#17 start - 3 per day stdev 1.5. what on Friday?\n",
    "\n",
    "n_trials = nrows = 10000\n",
    "poptarts_selection = ncols = 4\n",
    "\n",
    "tarts = np.random.normal(loc = 3, scale = 1.5, size = (nrows, ncols))\n",
    "tarts"
   ]
  },
  {
   "cell_type": "code",
   "execution_count": 59,
   "id": "d50d1b99",
   "metadata": {},
   "outputs": [
    {
     "data": {
      "text/plain": [
       "array([ True,  True,  True, ...,  True,  True,  True])"
      ]
     },
     "execution_count": 59,
     "metadata": {},
     "output_type": "execute_result"
    }
   ],
   "source": [
    "any_left = np.sum(tarts, axis=1) < 17\n",
    "any_left"
   ]
  },
  {
   "cell_type": "code",
   "execution_count": 60,
   "id": "a3e59e9d",
   "metadata": {},
   "outputs": [
    {
     "data": {
      "text/plain": [
       "0.954"
      ]
     },
     "execution_count": 60,
     "metadata": {},
     "output_type": "execute_result"
    }
   ],
   "source": [
    "any_left.mean()"
   ]
  },
  {
   "cell_type": "code",
   "execution_count": null,
   "id": "2af9c2b8",
   "metadata": {},
   "outputs": [],
   "source": []
  }
 ],
 "metadata": {
  "kernelspec": {
   "display_name": "Python 3 (ipykernel)",
   "language": "python",
   "name": "python3"
  },
  "language_info": {
   "codemirror_mode": {
    "name": "ipython",
    "version": 3
   },
   "file_extension": ".py",
   "mimetype": "text/x-python",
   "name": "python",
   "nbconvert_exporter": "python",
   "pygments_lexer": "ipython3",
   "version": "3.9.13"
  }
 },
 "nbformat": 4,
 "nbformat_minor": 5
}
