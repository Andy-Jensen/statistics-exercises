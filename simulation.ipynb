{
 "cells": [
  {
   "cell_type": "code",
   "execution_count": 1,
   "id": "5b028830",
   "metadata": {},
   "outputs": [],
   "source": [
    "import viz\n",
    "import numpy as np\n",
    "import pandas as pd\n",
    "np.random.seed(8675309)"
   ]
  },
  {
   "cell_type": "markdown",
   "id": "8bdff1be",
   "metadata": {},
   "source": [
    "# How likely is it that you roll doubles when rolling two dice?"
   ]
  },
  {
   "cell_type": "code",
   "execution_count": 2,
   "id": "a3be8355",
   "metadata": {},
   "outputs": [
    {
     "data": {
      "text/plain": [
       "array([[2, 5],\n",
       "       [5, 1],\n",
       "       [1, 2],\n",
       "       ...,\n",
       "       [1, 6],\n",
       "       [3, 2],\n",
       "       [4, 1]])"
      ]
     },
     "execution_count": 2,
     "metadata": {},
     "output_type": "execute_result"
    }
   ],
   "source": [
    "#Simulation\n",
    "#roll 2 dice 36 times\n",
    "\n",
    "n_trials = nrows = 10000\n",
    "n_dice = ncols = 2\n",
    "\n",
    "rolls = np.random.choice([1, 2, 3, 4, 5, 6], n_trials * n_dice).reshape(nrows, ncols)\n",
    "rolls"
   ]
  },
  {
   "cell_type": "code",
   "execution_count": 3,
   "id": "73ac67a4",
   "metadata": {},
   "outputs": [
    {
     "data": {
      "text/plain": [
       "array([[False],\n",
       "       [False],\n",
       "       [False],\n",
       "       ...,\n",
       "       [False],\n",
       "       [False],\n",
       "       [False]])"
      ]
     },
     "execution_count": 3,
     "metadata": {},
     "output_type": "execute_result"
    }
   ],
   "source": [
    "doubles = np.diff(rolls) == 0\n",
    "doubles"
   ]
  },
  {
   "cell_type": "code",
   "execution_count": 4,
   "id": "9868e5ec",
   "metadata": {},
   "outputs": [
    {
     "data": {
      "text/plain": [
       "0.1643"
      ]
     },
     "execution_count": 4,
     "metadata": {},
     "output_type": "execute_result"
    }
   ],
   "source": [
    "doubles.mean()"
   ]
  },
  {
   "cell_type": "markdown",
   "id": "bb7e3ad3",
   "metadata": {},
   "source": [
    "# If you flip 8 coins, what is the probability of getting exactly 3 heads?"
   ]
  },
  {
   "cell_type": "code",
   "execution_count": 5,
   "id": "4b070146",
   "metadata": {},
   "outputs": [
    {
     "data": {
      "text/plain": [
       "array([[0, 1, 1, ..., 0, 0, 0],\n",
       "       [0, 0, 0, ..., 0, 1, 1],\n",
       "       [1, 0, 1, ..., 1, 1, 1],\n",
       "       ...,\n",
       "       [1, 0, 1, ..., 1, 0, 1],\n",
       "       [1, 0, 1, ..., 0, 0, 0],\n",
       "       [1, 0, 1, ..., 1, 0, 1]])"
      ]
     },
     "execution_count": 5,
     "metadata": {},
     "output_type": "execute_result"
    }
   ],
   "source": [
    "n_trials = nrows = 10000\n",
    "n_coins = ncols = 8\n",
    "\n",
    "flips = np.random.choice([0, 1], n_trials * n_coins).reshape(nrows, ncols)\n",
    "flips"
   ]
  },
  {
   "cell_type": "code",
   "execution_count": 6,
   "id": "2f10812e",
   "metadata": {},
   "outputs": [
    {
     "data": {
      "text/plain": [
       "array([False, False, False, ..., False, False, False])"
      ]
     },
     "execution_count": 6,
     "metadata": {},
     "output_type": "execute_result"
    }
   ],
   "source": [
    "exact = np.sum(flips, axis=1) == 3\n",
    "exact"
   ]
  },
  {
   "cell_type": "code",
   "execution_count": 7,
   "id": "23641fb8",
   "metadata": {},
   "outputs": [
    {
     "data": {
      "text/plain": [
       "0.2149"
      ]
     },
     "execution_count": 7,
     "metadata": {},
     "output_type": "execute_result"
    }
   ],
   "source": [
    "exact.mean()"
   ]
  },
  {
   "cell_type": "markdown",
   "id": "7db368c0",
   "metadata": {},
   "source": [
    "# More than 3 heads?"
   ]
  },
  {
   "cell_type": "code",
   "execution_count": 8,
   "id": "9d117919",
   "metadata": {},
   "outputs": [
    {
     "data": {
      "text/plain": [
       "array([False, False,  True, ...,  True,  True,  True])"
      ]
     },
     "execution_count": 8,
     "metadata": {},
     "output_type": "execute_result"
    }
   ],
   "source": [
    "more = np.sum(flips, axis=1) > 3\n",
    "more"
   ]
  },
  {
   "cell_type": "code",
   "execution_count": 9,
   "id": "26718981",
   "metadata": {},
   "outputs": [
    {
     "data": {
      "text/plain": [
       "0.6367"
      ]
     },
     "execution_count": 9,
     "metadata": {},
     "output_type": "execute_result"
    }
   ],
   "source": [
    "more.mean()"
   ]
  },
  {
   "cell_type": "markdown",
   "id": "a542042c",
   "metadata": {},
   "source": [
    "## There are approximitely 3 web development cohorts for every 1 data science cohort at Codeup. Assuming that Codeup randomly selects an alumni to put on a billboard, what are the odds that the two billboards I drive past both have data science students on them?"
   ]
  },
  {
   "cell_type": "code",
   "execution_count": 10,
   "id": "40c03f33",
   "metadata": {},
   "outputs": [
    {
     "data": {
      "text/plain": [
       "array([[0, 0],\n",
       "       [2, 0],\n",
       "       [3, 1],\n",
       "       ...,\n",
       "       [1, 1],\n",
       "       [0, 3],\n",
       "       [2, 3]])"
      ]
     },
     "execution_count": 10,
     "metadata": {},
     "output_type": "execute_result"
    }
   ],
   "source": [
    "n_trials = nrows = 10000\n",
    "n_bb = ncols = 2\n",
    "\n",
    "dsbb = np.random.choice([0, 1, 2, 3], n_trials * n_bb).reshape(nrows, ncols)\n",
    "dsbb"
   ]
  },
  {
   "cell_type": "code",
   "execution_count": 11,
   "id": "9a45a5a1",
   "metadata": {},
   "outputs": [
    {
     "data": {
      "text/plain": [
       "array([False, False, False, ..., False, False, False])"
      ]
     },
     "execution_count": 11,
     "metadata": {},
     "output_type": "execute_result"
    }
   ],
   "source": [
    "ds = np.sum(dsbb, axis=1) == 6\n",
    "ds"
   ]
  },
  {
   "cell_type": "code",
   "execution_count": 12,
   "id": "fcd1f2b2",
   "metadata": {},
   "outputs": [
    {
     "data": {
      "text/plain": [
       "0.0642"
      ]
     },
     "execution_count": 12,
     "metadata": {},
     "output_type": "execute_result"
    }
   ],
   "source": [
    "ds.mean()"
   ]
  },
  {
   "cell_type": "markdown",
   "id": "6625af04",
   "metadata": {},
   "source": [
    "## Codeup students buy, on average, 3 poptart packages with a standard deviation of 1.5 a day from the snack vending machine. If on monday the machine is restocked with 17 poptart packages, how likely is it that I will be able to buy some poptarts on Friday afternoon? (Remember, if you have mean and standard deviation, use the np.random.normal) You'll need to make a judgement call on how to handle some of your values"
   ]
  },
  {
   "cell_type": "code",
   "execution_count": 53,
   "id": "e55b99b8",
   "metadata": {},
   "outputs": [
    {
     "data": {
      "text/plain": [
       "array([[ 2.94274992,  2.74473468,  1.09670821, -0.0400346 ,  3.67037175],\n",
       "       [ 4.80827143,  4.06790203,  3.88785208,  1.16669008,  1.73465559],\n",
       "       [-0.05179965,  3.46520877,  3.19183818,  2.90888527,  0.14625905],\n",
       "       ...,\n",
       "       [ 5.30012876,  1.16711276,  4.4273923 ,  3.66113699,  3.4223282 ],\n",
       "       [ 2.35531748,  0.99221262,  5.24463581,  2.6403109 ,  5.83507304],\n",
       "       [ 3.72994122,  8.78730662,  3.43187725,  3.18197376,  4.07561356]])"
      ]
     },
     "execution_count": 53,
     "metadata": {},
     "output_type": "execute_result"
    }
   ],
   "source": [
    "#17 start - 3 per day stdev 1.5. what on Friday?\n",
    "\n",
    "n_trials = nrows = 10000\n",
    "poptarts_selection = ncols = 5\n",
    "\n",
    "tarts = np.random.normal(loc = 3, scale = 1.5, size = (nrows, ncols))\n",
    "tarts"
   ]
  },
  {
   "cell_type": "code",
   "execution_count": 54,
   "id": "d50d1b99",
   "metadata": {},
   "outputs": [
    {
     "data": {
      "text/plain": [
       "array([ True,  True,  True, ..., False, False, False])"
      ]
     },
     "execution_count": 54,
     "metadata": {},
     "output_type": "execute_result"
    }
   ],
   "source": [
    "any_left = (np.sum(tarts, axis=1)) < 17\n",
    "any_left"
   ]
  },
  {
   "cell_type": "code",
   "execution_count": 55,
   "id": "a3e59e9d",
   "metadata": {},
   "outputs": [
    {
     "data": {
      "text/plain": [
       "0.7278"
      ]
     },
     "execution_count": 55,
     "metadata": {},
     "output_type": "execute_result"
    }
   ],
   "source": [
    "any_left.mean()"
   ]
  },
  {
   "cell_type": "markdown",
   "id": "16ce462d",
   "metadata": {},
   "source": [
    "## Compare Heights\n",
    "\n",
    "Men have an average height of 178 cm and standard deviation of 8cm.\n",
    "Women have a mean of 170, sd = 6cm.\n",
    "Since you have means and standard deviations, you can use np.random.normal to generate observations.\n",
    "\n",
    "\n",
    "If a man and woman are chosen at random, what is the likelihood the woman is taller than the man?"
   ]
  },
  {
   "cell_type": "code",
   "execution_count": 16,
   "id": "5c53403b",
   "metadata": {},
   "outputs": [
    {
     "data": {
      "text/plain": [
       "array([173.77448671, 167.68622513, 179.90987647, ..., 188.87623866,\n",
       "       178.81748483, 178.46725611])"
      ]
     },
     "execution_count": 16,
     "metadata": {},
     "output_type": "execute_result"
    }
   ],
   "source": [
    "n_trials = nrows = 10000\n",
    "n_fields = ncols = 1\n",
    "\n",
    "men = np.random.normal(loc = 178, scale = 8, size = (nrows,))\n",
    "women = np.random.normal(loc = 170, scale = 6, size = (nrows,))\n",
    "men"
   ]
  },
  {
   "cell_type": "code",
   "execution_count": 17,
   "id": "c9c48f1f",
   "metadata": {},
   "outputs": [
    {
     "data": {
      "text/html": [
       "<div>\n",
       "<style scoped>\n",
       "    .dataframe tbody tr th:only-of-type {\n",
       "        vertical-align: middle;\n",
       "    }\n",
       "\n",
       "    .dataframe tbody tr th {\n",
       "        vertical-align: top;\n",
       "    }\n",
       "\n",
       "    .dataframe thead th {\n",
       "        text-align: right;\n",
       "    }\n",
       "</style>\n",
       "<table border=\"1\" class=\"dataframe\">\n",
       "  <thead>\n",
       "    <tr style=\"text-align: right;\">\n",
       "      <th></th>\n",
       "      <th>men</th>\n",
       "      <th>women</th>\n",
       "    </tr>\n",
       "  </thead>\n",
       "  <tbody>\n",
       "    <tr>\n",
       "      <th>0</th>\n",
       "      <td>173.774487</td>\n",
       "      <td>160.503771</td>\n",
       "    </tr>\n",
       "    <tr>\n",
       "      <th>1</th>\n",
       "      <td>167.686225</td>\n",
       "      <td>160.747284</td>\n",
       "    </tr>\n",
       "    <tr>\n",
       "      <th>2</th>\n",
       "      <td>179.909876</td>\n",
       "      <td>174.975923</td>\n",
       "    </tr>\n",
       "    <tr>\n",
       "      <th>3</th>\n",
       "      <td>184.089490</td>\n",
       "      <td>173.746130</td>\n",
       "    </tr>\n",
       "    <tr>\n",
       "      <th>4</th>\n",
       "      <td>179.028346</td>\n",
       "      <td>181.805379</td>\n",
       "    </tr>\n",
       "    <tr>\n",
       "      <th>...</th>\n",
       "      <td>...</td>\n",
       "      <td>...</td>\n",
       "    </tr>\n",
       "    <tr>\n",
       "      <th>9995</th>\n",
       "      <td>177.363348</td>\n",
       "      <td>166.217457</td>\n",
       "    </tr>\n",
       "    <tr>\n",
       "      <th>9996</th>\n",
       "      <td>178.314248</td>\n",
       "      <td>165.872822</td>\n",
       "    </tr>\n",
       "    <tr>\n",
       "      <th>9997</th>\n",
       "      <td>188.876239</td>\n",
       "      <td>172.848314</td>\n",
       "    </tr>\n",
       "    <tr>\n",
       "      <th>9998</th>\n",
       "      <td>178.817485</td>\n",
       "      <td>171.733424</td>\n",
       "    </tr>\n",
       "    <tr>\n",
       "      <th>9999</th>\n",
       "      <td>178.467256</td>\n",
       "      <td>171.301300</td>\n",
       "    </tr>\n",
       "  </tbody>\n",
       "</table>\n",
       "<p>10000 rows × 2 columns</p>\n",
       "</div>"
      ],
      "text/plain": [
       "             men       women\n",
       "0     173.774487  160.503771\n",
       "1     167.686225  160.747284\n",
       "2     179.909876  174.975923\n",
       "3     184.089490  173.746130\n",
       "4     179.028346  181.805379\n",
       "...          ...         ...\n",
       "9995  177.363348  166.217457\n",
       "9996  178.314248  165.872822\n",
       "9997  188.876239  172.848314\n",
       "9998  178.817485  171.733424\n",
       "9999  178.467256  171.301300\n",
       "\n",
       "[10000 rows x 2 columns]"
      ]
     },
     "execution_count": 17,
     "metadata": {},
     "output_type": "execute_result"
    }
   ],
   "source": [
    "d = {'men': men, 'women': women}\n",
    "height = pd.DataFrame.from_dict(d)\n",
    "height"
   ]
  },
  {
   "cell_type": "code",
   "execution_count": 18,
   "id": "4f669b7a",
   "metadata": {},
   "outputs": [
    {
     "data": {
      "text/plain": [
       "0       False\n",
       "1       False\n",
       "2       False\n",
       "3       False\n",
       "4        True\n",
       "        ...  \n",
       "9995    False\n",
       "9996    False\n",
       "9997    False\n",
       "9998    False\n",
       "9999    False\n",
       "Length: 10000, dtype: bool"
      ]
     },
     "execution_count": 18,
     "metadata": {},
     "output_type": "execute_result"
    }
   ],
   "source": [
    "tall_gurl = height['women'] > height['men']\n",
    "tall_gurl"
   ]
  },
  {
   "cell_type": "code",
   "execution_count": 19,
   "id": "44e582da",
   "metadata": {},
   "outputs": [
    {
     "data": {
      "text/plain": [
       "0.2067"
      ]
     },
     "execution_count": 19,
     "metadata": {},
     "output_type": "execute_result"
    }
   ],
   "source": [
    "np.sum(tall_gurl) / len(height)"
   ]
  },
  {
   "cell_type": "markdown",
   "id": "192f2685",
   "metadata": {},
   "source": [
    "## When installing anaconda on a student's computer, there's a 1 in 250 chance that the download is corrupted and the installation fails. What are the odds that after having 50 students download anaconda, no one has an installation issue? 100 students?\n",
    "\n",
    "What is the probability that we observe an installation issue within the first 150 students that download anaconda?"
   ]
  },
  {
   "cell_type": "code",
   "execution_count": 20,
   "id": "0b5fdb5e",
   "metadata": {},
   "outputs": [
    {
     "data": {
      "text/plain": [
       "array([[0, 0, 0, ..., 0, 0, 0],\n",
       "       [0, 0, 0, ..., 0, 0, 0],\n",
       "       [0, 0, 0, ..., 0, 0, 0],\n",
       "       ...,\n",
       "       [0, 0, 0, ..., 0, 0, 0],\n",
       "       [0, 0, 0, ..., 0, 0, 0],\n",
       "       [0, 0, 0, ..., 0, 0, 0]])"
      ]
     },
     "execution_count": 20,
     "metadata": {},
     "output_type": "execute_result"
    }
   ],
   "source": [
    "n_trials = nrows = 10000\n",
    "students = ncols = 50\n",
    "\n",
    "corrupt = np.random.choice([0, 1], n_trials * students, p = [.996, .004]).reshape(nrows, ncols)\n",
    "corrupt"
   ]
  },
  {
   "cell_type": "code",
   "execution_count": 21,
   "id": "671f290e",
   "metadata": {},
   "outputs": [
    {
     "data": {
      "text/plain": [
       "0.8228"
      ]
     },
     "execution_count": 21,
     "metadata": {},
     "output_type": "execute_result"
    }
   ],
   "source": [
    "errors = np.sum(corrupt, axis = 1) >= 1\n",
    "1 - errors.mean()"
   ]
  },
  {
   "cell_type": "code",
   "execution_count": 22,
   "id": "b23217d6",
   "metadata": {},
   "outputs": [
    {
     "data": {
      "text/plain": [
       "array([[0, 0, 0, ..., 0, 0, 0],\n",
       "       [0, 0, 0, ..., 0, 0, 0],\n",
       "       [0, 0, 0, ..., 0, 0, 0],\n",
       "       ...,\n",
       "       [0, 0, 0, ..., 0, 0, 0],\n",
       "       [0, 0, 0, ..., 0, 0, 0],\n",
       "       [0, 0, 0, ..., 0, 0, 0]])"
      ]
     },
     "execution_count": 22,
     "metadata": {},
     "output_type": "execute_result"
    }
   ],
   "source": [
    "n_trials = nrows = 10000\n",
    "students_100 = ncols = 100\n",
    "\n",
    "corrupt_100 = np.random.choice([0, 1], n_trials * students_100, p = [.996, .004]).reshape(nrows, ncols)\n",
    "corrupt_100"
   ]
  },
  {
   "cell_type": "code",
   "execution_count": 23,
   "id": "358af80b",
   "metadata": {},
   "outputs": [
    {
     "data": {
      "text/plain": [
       "0.6676"
      ]
     },
     "execution_count": 23,
     "metadata": {},
     "output_type": "execute_result"
    }
   ],
   "source": [
    "errors_100 = np.sum(corrupt_100, axis = 1) >= 1\n",
    "1 - errors_100.mean()"
   ]
  },
  {
   "cell_type": "code",
   "execution_count": 24,
   "id": "c7a096c3",
   "metadata": {},
   "outputs": [
    {
     "data": {
      "text/plain": [
       "array([[0, 0, 0, ..., 0, 0, 0],\n",
       "       [0, 0, 0, ..., 0, 0, 0],\n",
       "       [0, 0, 0, ..., 0, 0, 0],\n",
       "       ...,\n",
       "       [0, 0, 0, ..., 0, 0, 0],\n",
       "       [0, 0, 0, ..., 0, 0, 0],\n",
       "       [0, 0, 0, ..., 0, 0, 0]])"
      ]
     },
     "execution_count": 24,
     "metadata": {},
     "output_type": "execute_result"
    }
   ],
   "source": [
    "n_trials = nrows = 10000\n",
    "students_150 = ncols = 150\n",
    "\n",
    "corrupt_150 = np.random.choice([0, 1], n_trials * students_150, p = [.996, .004]).reshape(nrows, ncols)\n",
    "corrupt_150"
   ]
  },
  {
   "cell_type": "code",
   "execution_count": 25,
   "id": "6a7178ea",
   "metadata": {},
   "outputs": [
    {
     "data": {
      "text/plain": [
       "0.4539"
      ]
     },
     "execution_count": 25,
     "metadata": {},
     "output_type": "execute_result"
    }
   ],
   "source": [
    "errors_150 = np.sum(corrupt_150, axis = 1) >= 1\n",
    "errors_150.mean()"
   ]
  },
  {
   "cell_type": "markdown",
   "id": "7c439f8c",
   "metadata": {},
   "source": [
    "## How likely is it that 450 students all download anaconda without an issue?"
   ]
  },
  {
   "cell_type": "code",
   "execution_count": 26,
   "id": "f9b967c9",
   "metadata": {},
   "outputs": [
    {
     "data": {
      "text/plain": [
       "array([[0, 0, 0, ..., 0, 0, 0],\n",
       "       [0, 0, 0, ..., 0, 0, 0],\n",
       "       [0, 0, 0, ..., 0, 0, 0],\n",
       "       ...,\n",
       "       [0, 0, 0, ..., 0, 0, 0],\n",
       "       [0, 0, 0, ..., 0, 0, 0],\n",
       "       [0, 0, 0, ..., 0, 0, 0]])"
      ]
     },
     "execution_count": 26,
     "metadata": {},
     "output_type": "execute_result"
    }
   ],
   "source": [
    "n_trials = nrows = 10000\n",
    "students_450 = ncols = 450\n",
    "\n",
    "corrupt_450 = np.random.choice([0, 1], n_trials * students_450, p = [.996, .004]).reshape(nrows, ncols)\n",
    "corrupt_450"
   ]
  },
  {
   "cell_type": "code",
   "execution_count": 27,
   "id": "beaa555b",
   "metadata": {},
   "outputs": [
    {
     "data": {
      "text/plain": [
       "0.16279999999999994"
      ]
     },
     "execution_count": 27,
     "metadata": {},
     "output_type": "execute_result"
    }
   ],
   "source": [
    "errors_450 = np.sum(corrupt_450, axis = 1) >= 1\n",
    "1 - errors_450.mean()"
   ]
  },
  {
   "cell_type": "code",
   "execution_count": 28,
   "id": "b14eee15",
   "metadata": {},
   "outputs": [
    {
     "data": {
      "text/plain": [
       "0.9814"
      ]
     },
     "execution_count": 28,
     "metadata": {},
     "output_type": "execute_result"
    }
   ],
   "source": [
    "n_trials = nrows = 10000\n",
    "students_1000 = ncols = 1000\n",
    "\n",
    "corrupt_1000 = np.random.choice([0, 1], n_trials * students_1000, p = [.996, .004]).reshape(nrows, ncols)\n",
    "corrupt_1000\n",
    "\n",
    "errors_1000 = np.sum(corrupt_1000, axis = 1) >= 1\n",
    "errors_1000.mean()"
   ]
  },
  {
   "cell_type": "markdown",
   "id": "e7e3754b",
   "metadata": {},
   "source": [
    "## There's a 70% chance on any given day that there will be at least one food truck at Travis Park. However, you haven't seen a food truck there in 3 days. How unlikely is this?\n",
    "\n",
    "How likely is it that a food truck will show up sometime this week?"
   ]
  },
  {
   "cell_type": "code",
   "execution_count": 29,
   "id": "58453335",
   "metadata": {},
   "outputs": [
    {
     "data": {
      "text/plain": [
       "0.025399999999999978"
      ]
     },
     "execution_count": 29,
     "metadata": {},
     "output_type": "execute_result"
    }
   ],
   "source": [
    "n_trials = nrows = 10000\n",
    "days = ncols = 3\n",
    "\n",
    "trukz = np.random.choice([0, 1], n_trials * days, p = [.3, .7]).reshape(nrows, ncols)\n",
    "trukz\n",
    "\n",
    "yummy_time = np.sum(trukz, axis = 1) >= 1\n",
    "1 - yummy_time.mean()"
   ]
  },
  {
   "cell_type": "code",
   "execution_count": 57,
   "id": "035aea79",
   "metadata": {},
   "outputs": [
    {
     "data": {
      "text/plain": [
       "0.9978"
      ]
     },
     "execution_count": 57,
     "metadata": {},
     "output_type": "execute_result"
    }
   ],
   "source": [
    "n_trials = nrows = 10000\n",
    "days_7 = ncols = 5\n",
    "\n",
    "trukz_7 = np.random.choice([0, 1], n_trials * days_7, p = [.3, .7]).reshape(nrows, ncols)\n",
    "trukz_7\n",
    "\n",
    "yummy_time_7 = np.sum(trukz_7, axis = 1) >= 1\n",
    "yummy_time_7.mean()"
   ]
  },
  {
   "cell_type": "markdown",
   "id": "4f077685",
   "metadata": {},
   "source": [
    "## If 23 people are in the same room, what are the odds that two of them share a birthday? What if it's 20 people? 40?"
   ]
  },
  {
   "cell_type": "code",
   "execution_count": 31,
   "id": "34e6ba12",
   "metadata": {},
   "outputs": [
    {
     "data": {
      "text/plain": [
       "array([[  1, 137, 364, ..., 196, 156,  21],\n",
       "       [223,  66, 178, ..., 175,  92,  53],\n",
       "       [358, 336, 212, ..., 265,  34, 328],\n",
       "       ...,\n",
       "       [296,  39, 181, ...,  81, 166, 101],\n",
       "       [ 67,  97,  76, ..., 358,  75, 244],\n",
       "       [258,  20, 246, ..., 213, 313, 284]])"
      ]
     },
     "execution_count": 31,
     "metadata": {},
     "output_type": "execute_result"
    }
   ],
   "source": [
    "n_trials = nrows = 10000\n",
    "people = ncols = 23\n",
    "\n",
    "bday = np.random.choice((range(1, 366, 1)), size = n_trials * people).reshape(nrows, ncols)\n",
    "bday"
   ]
  },
  {
   "cell_type": "code",
   "execution_count": 97,
   "id": "0d59c7be",
   "metadata": {},
   "outputs": [],
   "source": [
    "bbday = pd.DataFrame(bday)"
   ]
  },
  {
   "cell_type": "code",
   "execution_count": 110,
   "id": "463adc13",
   "metadata": {},
   "outputs": [
    {
     "data": {
      "text/plain": [
       "0       23\n",
       "1       23\n",
       "2       21\n",
       "3       23\n",
       "4       22\n",
       "        ..\n",
       "9995    23\n",
       "9996    21\n",
       "9997    22\n",
       "9998    23\n",
       "9999    23\n",
       "Length: 10000, dtype: int64"
      ]
     },
     "execution_count": 110,
     "metadata": {},
     "output_type": "execute_result"
    }
   ],
   "source": [
    "series = bbday.nunique(axis = 1)\n",
    "series"
   ]
  },
  {
   "cell_type": "code",
   "execution_count": 112,
   "id": "8f5e2937",
   "metadata": {},
   "outputs": [
    {
     "data": {
      "text/plain": [
       "0.5085"
      ]
     },
     "execution_count": 112,
     "metadata": {},
     "output_type": "execute_result"
    }
   ],
   "source": [
    "(series<23).mean()"
   ]
  },
  {
   "cell_type": "code",
   "execution_count": null,
   "id": "8b09e1ca",
   "metadata": {},
   "outputs": [],
   "source": []
  }
 ],
 "metadata": {
  "kernelspec": {
   "display_name": "Python 3 (ipykernel)",
   "language": "python",
   "name": "python3"
  },
  "language_info": {
   "codemirror_mode": {
    "name": "ipython",
    "version": 3
   },
   "file_extension": ".py",
   "mimetype": "text/x-python",
   "name": "python",
   "nbconvert_exporter": "python",
   "pygments_lexer": "ipython3",
   "version": "3.9.13"
  }
 },
 "nbformat": 4,
 "nbformat_minor": 5
}
