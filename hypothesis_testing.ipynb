{
 "cells": [
  {
   "cell_type": "markdown",
   "id": "18d6f24f",
   "metadata": {},
   "source": [
    "## For each of the following questions, formulate a null and alternative hypothesis (be as specific as you can be), then give an example of what a true positive, true negative, type I and type II errors would look like. Note that some of the questions are intentionally phrased in a vague way. It is your job to reword these as more precise questions that could be tested."
   ]
  },
  {
   "cell_type": "markdown",
   "id": "396a1a9e",
   "metadata": {},
   "source": [
    "### Has the network latency gone up since we switched internet service providers?"
   ]
  },
  {
   "cell_type": "markdown",
   "id": "90189eb1",
   "metadata": {},
   "source": [
    "Ho - There is no difference in network latency since we switched internet service providers\n",
    "\n",
    "Ha - There is a difference in network latency since we switched internet service providers\n",
    "\n",
    "true positive- the Ho is true and we choose to not reject it\n",
    "true negative- the Ha is true and we choose to reject the Ho\n",
    "type 1 error- There is no difference in network latency, but we said there was.\n",
    "type 2 error- There is a difference in network latency, but we said there wasn't."
   ]
  },
  {
   "cell_type": "markdown",
   "id": "99c82a8d",
   "metadata": {},
   "source": [
    "### Is the website redesign any good?"
   ]
  },
  {
   "cell_type": "markdown",
   "id": "c072b1bd",
   "metadata": {},
   "source": [
    "Ho - We are not getting more click throughs (website traffic) after the redesign than before\n",
    "\n",
    "Ha - We are getting more click throughs (website traffic) after the redesign than before\n",
    "\n",
    "true positive- the Ho is true and we choose to not reject it\n",
    "true negative- the Ha is true and we choose to reject the Ho\n",
    "type 1 error- There is no increase in web traffic, but we thought there was.\n",
    "type 2 error- There is an increase in web traffic, but we said there wasn't."
   ]
  },
  {
   "cell_type": "markdown",
   "id": "bed136fa",
   "metadata": {},
   "source": [
    "### Is our television ad driving more sales?"
   ]
  },
  {
   "cell_type": "markdown",
   "id": "56c46852",
   "metadata": {},
   "source": [
    "Ho - We are not seeing an increase in sales within 24 hours after our TV ad airs during an episode of Walker Texas Ranger than if our ad does not air during an episode of Walker Texas Ranger.\n",
    "\n",
    "Ha - We are seeing an increase in sales within 24 hours after our TV ad airs during an episode of Walker Texas Ranger than if our ad does not air during an episode of Walker Texas Ranger.\n",
    "\n",
    "true positive- the Ho is true and we choose to not reject it\n",
    "true negative- the Ha is true and we choose to reject the Ho\n",
    "type 1 error- We claim with confidence that there is an increase in sales within 24 hours after our ad airs when there is indeed no increase. It may have been the weather... We falsly rejected the Ho.\n",
    "type 2 error- There was an increase in sales, but we chose to accept the Ho and thought there was no increase. We falsly did not reject our Ho."
   ]
  },
  {
   "cell_type": "markdown",
   "id": "6956c273",
   "metadata": {},
   "source": [
    "## Answer with the type of test you would use (assume normal distribution):"
   ]
  },
  {
   "cell_type": "markdown",
   "id": "73f8795c",
   "metadata": {},
   "source": [
    "Is there a difference in grades of \n",
    "students on the second floor compared to grades of all students?\n",
    "\n",
    "Type of test- one tail t-test\n",
    "\n",
    "Are adults who drink milk taller than adults who dont drink milk?\n",
    "\n",
    "Type of test- two tail t-test (independent t-test)\n",
    "\n",
    "Is the the price of gas higher in texas or in new mexico?\n",
    "\n",
    "Type of test- two tail t-test (independent t-test)\n",
    "\n",
    "Are there differences in stress levels between students who take data science vs \n",
    "students who take web development vs students who take cloud academy?\n",
    "\n",
    "Type of test- ANOVA"
   ]
  },
  {
   "cell_type": "code",
   "execution_count": 2,
   "id": "16d97804",
   "metadata": {},
   "outputs": [],
   "source": [
    "import pandas as pd\n",
    "import numpy as np\n",
    "import matplotlib.pyplot as plt\n",
    "import scipy.stats as stats\n",
    "import seaborn as sns\n",
    "np.random.seed(8675309)"
   ]
  },
  {
   "cell_type": "markdown",
   "id": "580f072b",
   "metadata": {},
   "source": [
    "### Ace Realty wants to determine whether the average time it takes to sell homes is different for its two offices. A sample of 40 sales from office #1 revealed a mean of 90 days and a standard deviation of 15 days. A sample of 50 sales from office #2 revealed a mean of 100 days and a standard deviation of 20 days. Use a .05 level of significance."
   ]
  },
  {
   "cell_type": "code",
   "execution_count": 10,
   "id": "4b89698a",
   "metadata": {},
   "outputs": [],
   "source": [
    "#Ho - there is no difference\n",
    "#Ha - there is a difference\n",
    "alpha = .05"
   ]
  },
  {
   "cell_type": "code",
   "execution_count": 11,
   "id": "48f4f255",
   "metadata": {},
   "outputs": [],
   "source": [
    "office_a = np.random.normal(90, 15, 40)\n",
    "office_b = np.random.normal(100, 20, 50)\n"
   ]
  },
  {
   "cell_type": "code",
   "execution_count": 12,
   "id": "78aaad25",
   "metadata": {},
   "outputs": [
    {
     "data": {
      "text/plain": [
       "145.6766034205988"
      ]
     },
     "execution_count": 12,
     "metadata": {},
     "output_type": "execute_result"
    }
   ],
   "source": [
    "office_a.var()"
   ]
  },
  {
   "cell_type": "code",
   "execution_count": 13,
   "id": "074457a2",
   "metadata": {},
   "outputs": [
    {
     "data": {
      "text/plain": [
       "285.9021551305127"
      ]
     },
     "execution_count": 13,
     "metadata": {},
     "output_type": "execute_result"
    }
   ],
   "source": [
    "office_b.var()"
   ]
  },
  {
   "cell_type": "code",
   "execution_count": 14,
   "id": "74605d0d",
   "metadata": {},
   "outputs": [
    {
     "name": "stdout",
     "output_type": "stream",
     "text": [
      "-3.128226866077665 0.0023926267265584737\n"
     ]
    }
   ],
   "source": [
    "t, p = stats.ttest_ind(office_a, office_b, equal_var = False)\n",
    "print(t, p)"
   ]
  },
  {
   "cell_type": "code",
   "execution_count": 15,
   "id": "d2e59d96",
   "metadata": {},
   "outputs": [
    {
     "name": "stdout",
     "output_type": "stream",
     "text": [
      "There is a difference in the time it takes to sell homes between the offices!\n"
     ]
    }
   ],
   "source": [
    "if p < alpha:\n",
    "    print('There is a difference in the time it takes to sell homes between the offices!')\n",
    "else:\n",
    "    print('There is no difference in the time it takes to sell homes!')"
   ]
  },
  {
   "cell_type": "code",
   "execution_count": 16,
   "id": "ee31da10",
   "metadata": {},
   "outputs": [
    {
     "data": {
      "text/html": [
       "<div>\n",
       "<style scoped>\n",
       "    .dataframe tbody tr th:only-of-type {\n",
       "        vertical-align: middle;\n",
       "    }\n",
       "\n",
       "    .dataframe tbody tr th {\n",
       "        vertical-align: top;\n",
       "    }\n",
       "\n",
       "    .dataframe thead th {\n",
       "        text-align: right;\n",
       "    }\n",
       "</style>\n",
       "<table border=\"1\" class=\"dataframe\">\n",
       "  <thead>\n",
       "    <tr style=\"text-align: right;\">\n",
       "      <th></th>\n",
       "      <th>manufacturer</th>\n",
       "      <th>model</th>\n",
       "      <th>displ</th>\n",
       "      <th>year</th>\n",
       "      <th>cyl</th>\n",
       "      <th>trans</th>\n",
       "      <th>drv</th>\n",
       "      <th>cty</th>\n",
       "      <th>hwy</th>\n",
       "      <th>fl</th>\n",
       "      <th>class</th>\n",
       "    </tr>\n",
       "  </thead>\n",
       "  <tbody>\n",
       "    <tr>\n",
       "      <th>1</th>\n",
       "      <td>audi</td>\n",
       "      <td>a4</td>\n",
       "      <td>1.8</td>\n",
       "      <td>1999</td>\n",
       "      <td>4</td>\n",
       "      <td>auto(l5)</td>\n",
       "      <td>f</td>\n",
       "      <td>18</td>\n",
       "      <td>29</td>\n",
       "      <td>p</td>\n",
       "      <td>compact</td>\n",
       "    </tr>\n",
       "    <tr>\n",
       "      <th>2</th>\n",
       "      <td>audi</td>\n",
       "      <td>a4</td>\n",
       "      <td>1.8</td>\n",
       "      <td>1999</td>\n",
       "      <td>4</td>\n",
       "      <td>manual(m5)</td>\n",
       "      <td>f</td>\n",
       "      <td>21</td>\n",
       "      <td>29</td>\n",
       "      <td>p</td>\n",
       "      <td>compact</td>\n",
       "    </tr>\n",
       "    <tr>\n",
       "      <th>3</th>\n",
       "      <td>audi</td>\n",
       "      <td>a4</td>\n",
       "      <td>2.0</td>\n",
       "      <td>2008</td>\n",
       "      <td>4</td>\n",
       "      <td>manual(m6)</td>\n",
       "      <td>f</td>\n",
       "      <td>20</td>\n",
       "      <td>31</td>\n",
       "      <td>p</td>\n",
       "      <td>compact</td>\n",
       "    </tr>\n",
       "    <tr>\n",
       "      <th>4</th>\n",
       "      <td>audi</td>\n",
       "      <td>a4</td>\n",
       "      <td>2.0</td>\n",
       "      <td>2008</td>\n",
       "      <td>4</td>\n",
       "      <td>auto(av)</td>\n",
       "      <td>f</td>\n",
       "      <td>21</td>\n",
       "      <td>30</td>\n",
       "      <td>p</td>\n",
       "      <td>compact</td>\n",
       "    </tr>\n",
       "    <tr>\n",
       "      <th>5</th>\n",
       "      <td>audi</td>\n",
       "      <td>a4</td>\n",
       "      <td>2.8</td>\n",
       "      <td>1999</td>\n",
       "      <td>6</td>\n",
       "      <td>auto(l5)</td>\n",
       "      <td>f</td>\n",
       "      <td>16</td>\n",
       "      <td>26</td>\n",
       "      <td>p</td>\n",
       "      <td>compact</td>\n",
       "    </tr>\n",
       "  </tbody>\n",
       "</table>\n",
       "</div>"
      ],
      "text/plain": [
       "  manufacturer model  displ  year  cyl       trans drv  cty  hwy fl    class\n",
       "1         audi    a4    1.8  1999    4    auto(l5)   f   18   29  p  compact\n",
       "2         audi    a4    1.8  1999    4  manual(m5)   f   21   29  p  compact\n",
       "3         audi    a4    2.0  2008    4  manual(m6)   f   20   31  p  compact\n",
       "4         audi    a4    2.0  2008    4    auto(av)   f   21   30  p  compact\n",
       "5         audi    a4    2.8  1999    6    auto(l5)   f   16   26  p  compact"
      ]
     },
     "execution_count": 16,
     "metadata": {},
     "output_type": "execute_result"
    }
   ],
   "source": [
    "from pydataset import data\n",
    "\n",
    "mpg = data('mpg')\n",
    "mpg.head()"
   ]
  },
  {
   "cell_type": "markdown",
   "id": "636677cc",
   "metadata": {},
   "source": [
    "## Is there a difference in fuel-efficiency in cars from 2008 vs 1999?"
   ]
  },
  {
   "cell_type": "code",
   "execution_count": 17,
   "id": "921b906b",
   "metadata": {},
   "outputs": [
    {
     "data": {
      "text/html": [
       "<div>\n",
       "<style scoped>\n",
       "    .dataframe tbody tr th:only-of-type {\n",
       "        vertical-align: middle;\n",
       "    }\n",
       "\n",
       "    .dataframe tbody tr th {\n",
       "        vertical-align: top;\n",
       "    }\n",
       "\n",
       "    .dataframe thead th {\n",
       "        text-align: right;\n",
       "    }\n",
       "</style>\n",
       "<table border=\"1\" class=\"dataframe\">\n",
       "  <thead>\n",
       "    <tr style=\"text-align: right;\">\n",
       "      <th></th>\n",
       "      <th>manufacturer</th>\n",
       "      <th>model</th>\n",
       "      <th>displ</th>\n",
       "      <th>year</th>\n",
       "      <th>cyl</th>\n",
       "      <th>trans</th>\n",
       "      <th>drv</th>\n",
       "      <th>cty</th>\n",
       "      <th>hwy</th>\n",
       "      <th>fl</th>\n",
       "      <th>class</th>\n",
       "      <th>fuel_efficiency</th>\n",
       "    </tr>\n",
       "  </thead>\n",
       "  <tbody>\n",
       "    <tr>\n",
       "      <th>1</th>\n",
       "      <td>audi</td>\n",
       "      <td>a4</td>\n",
       "      <td>1.8</td>\n",
       "      <td>1999</td>\n",
       "      <td>4</td>\n",
       "      <td>auto(l5)</td>\n",
       "      <td>f</td>\n",
       "      <td>18</td>\n",
       "      <td>29</td>\n",
       "      <td>p</td>\n",
       "      <td>compact</td>\n",
       "      <td>23.5</td>\n",
       "    </tr>\n",
       "    <tr>\n",
       "      <th>2</th>\n",
       "      <td>audi</td>\n",
       "      <td>a4</td>\n",
       "      <td>1.8</td>\n",
       "      <td>1999</td>\n",
       "      <td>4</td>\n",
       "      <td>manual(m5)</td>\n",
       "      <td>f</td>\n",
       "      <td>21</td>\n",
       "      <td>29</td>\n",
       "      <td>p</td>\n",
       "      <td>compact</td>\n",
       "      <td>25.0</td>\n",
       "    </tr>\n",
       "    <tr>\n",
       "      <th>3</th>\n",
       "      <td>audi</td>\n",
       "      <td>a4</td>\n",
       "      <td>2.0</td>\n",
       "      <td>2008</td>\n",
       "      <td>4</td>\n",
       "      <td>manual(m6)</td>\n",
       "      <td>f</td>\n",
       "      <td>20</td>\n",
       "      <td>31</td>\n",
       "      <td>p</td>\n",
       "      <td>compact</td>\n",
       "      <td>25.5</td>\n",
       "    </tr>\n",
       "    <tr>\n",
       "      <th>4</th>\n",
       "      <td>audi</td>\n",
       "      <td>a4</td>\n",
       "      <td>2.0</td>\n",
       "      <td>2008</td>\n",
       "      <td>4</td>\n",
       "      <td>auto(av)</td>\n",
       "      <td>f</td>\n",
       "      <td>21</td>\n",
       "      <td>30</td>\n",
       "      <td>p</td>\n",
       "      <td>compact</td>\n",
       "      <td>25.5</td>\n",
       "    </tr>\n",
       "    <tr>\n",
       "      <th>5</th>\n",
       "      <td>audi</td>\n",
       "      <td>a4</td>\n",
       "      <td>2.8</td>\n",
       "      <td>1999</td>\n",
       "      <td>6</td>\n",
       "      <td>auto(l5)</td>\n",
       "      <td>f</td>\n",
       "      <td>16</td>\n",
       "      <td>26</td>\n",
       "      <td>p</td>\n",
       "      <td>compact</td>\n",
       "      <td>21.0</td>\n",
       "    </tr>\n",
       "  </tbody>\n",
       "</table>\n",
       "</div>"
      ],
      "text/plain": [
       "  manufacturer model  displ  year  cyl       trans drv  cty  hwy fl    class  \\\n",
       "1         audi    a4    1.8  1999    4    auto(l5)   f   18   29  p  compact   \n",
       "2         audi    a4    1.8  1999    4  manual(m5)   f   21   29  p  compact   \n",
       "3         audi    a4    2.0  2008    4  manual(m6)   f   20   31  p  compact   \n",
       "4         audi    a4    2.0  2008    4    auto(av)   f   21   30  p  compact   \n",
       "5         audi    a4    2.8  1999    6    auto(l5)   f   16   26  p  compact   \n",
       "\n",
       "   fuel_efficiency  \n",
       "1             23.5  \n",
       "2             25.0  \n",
       "3             25.5  \n",
       "4             25.5  \n",
       "5             21.0  "
      ]
     },
     "execution_count": 17,
     "metadata": {},
     "output_type": "execute_result"
    }
   ],
   "source": [
    "mpg['fuel_efficiency'] = (mpg.cty+mpg.hwy) / 2\n",
    "mpg.head()"
   ]
  },
  {
   "cell_type": "code",
   "execution_count": 18,
   "id": "91a7a80b",
   "metadata": {},
   "outputs": [],
   "source": [
    "#Ho - there is no difference\n",
    "#Ha - there is a difference\n",
    "\n",
    "y2008 = mpg[mpg['year']==2008].fuel_efficiency\n",
    "y1999 = mpg[mpg['year']==1999].fuel_efficiency"
   ]
  },
  {
   "cell_type": "code",
   "execution_count": 19,
   "id": "5d539ce1",
   "metadata": {},
   "outputs": [
    {
     "data": {
      "text/plain": [
       "<AxesSubplot:>"
      ]
     },
     "execution_count": 19,
     "metadata": {},
     "output_type": "execute_result"
    },
    {
     "data": {
      "image/png": "[encoded data removed]",
      "text/plain": [
       "<Figure size 640x480 with 1 Axes>"
      ]
     },
     "metadata": {},
     "output_type": "display_data"
    }
   ],
   "source": [
    "y1999.hist(alpha=.5)\n",
    "y2008.hist(alpha=.5)"
   ]
  },
  {
   "cell_type": "code",
   "execution_count": 20,
   "id": "506a1137",
   "metadata": {},
   "outputs": [
    {
     "name": "stdout",
     "output_type": "stream",
     "text": [
      "27.122605363984682\n",
      "24.097480106100797\n"
     ]
    }
   ],
   "source": [
    "print(y1999.var())\n",
    "print(y2008.var())"
   ]
  },
  {
   "cell_type": "code",
   "execution_count": 21,
   "id": "0948f8c7",
   "metadata": {},
   "outputs": [
    {
     "name": "stdout",
     "output_type": "stream",
     "text": [
      "there is not a significant difference (pvalue: 0.8263750772060638)\n"
     ]
    }
   ],
   "source": [
    "s, p = stats.ttest_ind(y1999, y2008, equal_var=False)\n",
    "\n",
    "if p < alpha:\n",
    "    print(f'there is a significant difference (pvalue: {p}')\n",
    "else:\n",
    "    print(f'there is not a significant difference (pvalue: {p})')"
   ]
  },
  {
   "cell_type": "markdown",
   "id": "97fb9a9a",
   "metadata": {},
   "source": [
    "## Are compact cars more fuel-efficient than the average car?"
   ]
  },
  {
   "cell_type": "code",
   "execution_count": 22,
   "id": "5072c29b",
   "metadata": {},
   "outputs": [
    {
     "data": {
      "text/plain": [
       "<AxesSubplot:>"
      ]
     },
     "execution_count": 22,
     "metadata": {},
     "output_type": "execute_result"
    },
    {
     "data": {
      "image/png": "[encoded data removed]",
      "text/plain": [
       "<Figure size 640x480 with 1 Axes>"
      ]
     },
     "metadata": {},
     "output_type": "display_data"
    }
   ],
   "source": [
    "compact = mpg[mpg['class']=='compact'].fuel_efficiency\n",
    "compact.hist()"
   ]
  },
  {
   "cell_type": "code",
   "execution_count": 23,
   "id": "3982f0a1",
   "metadata": {},
   "outputs": [
    {
     "data": {
      "text/plain": [
       "47"
      ]
     },
     "execution_count": 23,
     "metadata": {},
     "output_type": "execute_result"
    }
   ],
   "source": [
    "compact.value_counts().sum()"
   ]
  },
  {
   "cell_type": "code",
   "execution_count": 24,
   "id": "a8c69197",
   "metadata": {},
   "outputs": [
    {
     "name": "stdout",
     "output_type": "stream",
     "text": [
      "there is a significant difference (pvalue: 2.0992818971585743e-10\n"
     ]
    }
   ],
   "source": [
    "overall_mean = mpg['fuel_efficiency'].mean()\n",
    "\n",
    "t, p = stats.ttest_1samp(compact, overall_mean)\n",
    "\n",
    "if p/2 < alpha:\n",
    "    print(f'there is a significant difference (pvalue: {p/2}')\n",
    "else:\n",
    "    print(f'there is not a significant difference (pvalue: {p/2})')"
   ]
  },
  {
   "cell_type": "markdown",
   "id": "1e6e4652",
   "metadata": {},
   "source": [
    "## Do manual cars get better gas mileage than automatic cars?"
   ]
  },
  {
   "cell_type": "code",
   "execution_count": 25,
   "id": "34933f70",
   "metadata": {},
   "outputs": [
    {
     "data": {
      "text/html": [
       "<div>\n",
       "<style scoped>\n",
       "    .dataframe tbody tr th:only-of-type {\n",
       "        vertical-align: middle;\n",
       "    }\n",
       "\n",
       "    .dataframe tbody tr th {\n",
       "        vertical-align: top;\n",
       "    }\n",
       "\n",
       "    .dataframe thead th {\n",
       "        text-align: right;\n",
       "    }\n",
       "</style>\n",
       "<table border=\"1\" class=\"dataframe\">\n",
       "  <thead>\n",
       "    <tr style=\"text-align: right;\">\n",
       "      <th></th>\n",
       "      <th>manufacturer</th>\n",
       "      <th>model</th>\n",
       "      <th>displ</th>\n",
       "      <th>year</th>\n",
       "      <th>cyl</th>\n",
       "      <th>trans</th>\n",
       "      <th>drv</th>\n",
       "      <th>cty</th>\n",
       "      <th>hwy</th>\n",
       "      <th>fl</th>\n",
       "      <th>class</th>\n",
       "      <th>fuel_efficiency</th>\n",
       "    </tr>\n",
       "  </thead>\n",
       "  <tbody>\n",
       "    <tr>\n",
       "      <th>1</th>\n",
       "      <td>audi</td>\n",
       "      <td>a4</td>\n",
       "      <td>1.8</td>\n",
       "      <td>1999</td>\n",
       "      <td>4</td>\n",
       "      <td>auto(l5)</td>\n",
       "      <td>f</td>\n",
       "      <td>18</td>\n",
       "      <td>29</td>\n",
       "      <td>p</td>\n",
       "      <td>compact</td>\n",
       "      <td>23.5</td>\n",
       "    </tr>\n",
       "    <tr>\n",
       "      <th>4</th>\n",
       "      <td>audi</td>\n",
       "      <td>a4</td>\n",
       "      <td>2.0</td>\n",
       "      <td>2008</td>\n",
       "      <td>4</td>\n",
       "      <td>auto(av)</td>\n",
       "      <td>f</td>\n",
       "      <td>21</td>\n",
       "      <td>30</td>\n",
       "      <td>p</td>\n",
       "      <td>compact</td>\n",
       "      <td>25.5</td>\n",
       "    </tr>\n",
       "    <tr>\n",
       "      <th>5</th>\n",
       "      <td>audi</td>\n",
       "      <td>a4</td>\n",
       "      <td>2.8</td>\n",
       "      <td>1999</td>\n",
       "      <td>6</td>\n",
       "      <td>auto(l5)</td>\n",
       "      <td>f</td>\n",
       "      <td>16</td>\n",
       "      <td>26</td>\n",
       "      <td>p</td>\n",
       "      <td>compact</td>\n",
       "      <td>21.0</td>\n",
       "    </tr>\n",
       "    <tr>\n",
       "      <th>7</th>\n",
       "      <td>audi</td>\n",
       "      <td>a4</td>\n",
       "      <td>3.1</td>\n",
       "      <td>2008</td>\n",
       "      <td>6</td>\n",
       "      <td>auto(av)</td>\n",
       "      <td>f</td>\n",
       "      <td>18</td>\n",
       "      <td>27</td>\n",
       "      <td>p</td>\n",
       "      <td>compact</td>\n",
       "      <td>22.5</td>\n",
       "    </tr>\n",
       "    <tr>\n",
       "      <th>9</th>\n",
       "      <td>audi</td>\n",
       "      <td>a4 quattro</td>\n",
       "      <td>1.8</td>\n",
       "      <td>1999</td>\n",
       "      <td>4</td>\n",
       "      <td>auto(l5)</td>\n",
       "      <td>4</td>\n",
       "      <td>16</td>\n",
       "      <td>25</td>\n",
       "      <td>p</td>\n",
       "      <td>compact</td>\n",
       "      <td>20.5</td>\n",
       "    </tr>\n",
       "  </tbody>\n",
       "</table>\n",
       "</div>"
      ],
      "text/plain": [
       "  manufacturer       model  displ  year  cyl     trans drv  cty  hwy fl  \\\n",
       "1         audi          a4    1.8  1999    4  auto(l5)   f   18   29  p   \n",
       "4         audi          a4    2.0  2008    4  auto(av)   f   21   30  p   \n",
       "5         audi          a4    2.8  1999    6  auto(l5)   f   16   26  p   \n",
       "7         audi          a4    3.1  2008    6  auto(av)   f   18   27  p   \n",
       "9         audi  a4 quattro    1.8  1999    4  auto(l5)   4   16   25  p   \n",
       "\n",
       "     class  fuel_efficiency  \n",
       "1  compact             23.5  \n",
       "4  compact             25.5  \n",
       "5  compact             21.0  \n",
       "7  compact             22.5  \n",
       "9  compact             20.5  "
      ]
     },
     "execution_count": 25,
     "metadata": {},
     "output_type": "execute_result"
    }
   ],
   "source": [
    "automatic = mpg[mpg['trans'].str.startswith('auto')]\n",
    "automatic.head()"
   ]
  },
  {
   "cell_type": "code",
   "execution_count": 26,
   "id": "81f29295",
   "metadata": {},
   "outputs": [
    {
     "data": {
      "text/html": [
       "<div>\n",
       "<style scoped>\n",
       "    .dataframe tbody tr th:only-of-type {\n",
       "        vertical-align: middle;\n",
       "    }\n",
       "\n",
       "    .dataframe tbody tr th {\n",
       "        vertical-align: top;\n",
       "    }\n",
       "\n",
       "    .dataframe thead th {\n",
       "        text-align: right;\n",
       "    }\n",
       "</style>\n",
       "<table border=\"1\" class=\"dataframe\">\n",
       "  <thead>\n",
       "    <tr style=\"text-align: right;\">\n",
       "      <th></th>\n",
       "      <th>manufacturer</th>\n",
       "      <th>model</th>\n",
       "      <th>displ</th>\n",
       "      <th>year</th>\n",
       "      <th>cyl</th>\n",
       "      <th>trans</th>\n",
       "      <th>drv</th>\n",
       "      <th>cty</th>\n",
       "      <th>hwy</th>\n",
       "      <th>fl</th>\n",
       "      <th>class</th>\n",
       "      <th>fuel_efficiency</th>\n",
       "    </tr>\n",
       "  </thead>\n",
       "  <tbody>\n",
       "    <tr>\n",
       "      <th>2</th>\n",
       "      <td>audi</td>\n",
       "      <td>a4</td>\n",
       "      <td>1.8</td>\n",
       "      <td>1999</td>\n",
       "      <td>4</td>\n",
       "      <td>manual(m5)</td>\n",
       "      <td>f</td>\n",
       "      <td>21</td>\n",
       "      <td>29</td>\n",
       "      <td>p</td>\n",
       "      <td>compact</td>\n",
       "      <td>25.0</td>\n",
       "    </tr>\n",
       "    <tr>\n",
       "      <th>3</th>\n",
       "      <td>audi</td>\n",
       "      <td>a4</td>\n",
       "      <td>2.0</td>\n",
       "      <td>2008</td>\n",
       "      <td>4</td>\n",
       "      <td>manual(m6)</td>\n",
       "      <td>f</td>\n",
       "      <td>20</td>\n",
       "      <td>31</td>\n",
       "      <td>p</td>\n",
       "      <td>compact</td>\n",
       "      <td>25.5</td>\n",
       "    </tr>\n",
       "    <tr>\n",
       "      <th>6</th>\n",
       "      <td>audi</td>\n",
       "      <td>a4</td>\n",
       "      <td>2.8</td>\n",
       "      <td>1999</td>\n",
       "      <td>6</td>\n",
       "      <td>manual(m5)</td>\n",
       "      <td>f</td>\n",
       "      <td>18</td>\n",
       "      <td>26</td>\n",
       "      <td>p</td>\n",
       "      <td>compact</td>\n",
       "      <td>22.0</td>\n",
       "    </tr>\n",
       "    <tr>\n",
       "      <th>8</th>\n",
       "      <td>audi</td>\n",
       "      <td>a4 quattro</td>\n",
       "      <td>1.8</td>\n",
       "      <td>1999</td>\n",
       "      <td>4</td>\n",
       "      <td>manual(m5)</td>\n",
       "      <td>4</td>\n",
       "      <td>18</td>\n",
       "      <td>26</td>\n",
       "      <td>p</td>\n",
       "      <td>compact</td>\n",
       "      <td>22.0</td>\n",
       "    </tr>\n",
       "    <tr>\n",
       "      <th>10</th>\n",
       "      <td>audi</td>\n",
       "      <td>a4 quattro</td>\n",
       "      <td>2.0</td>\n",
       "      <td>2008</td>\n",
       "      <td>4</td>\n",
       "      <td>manual(m6)</td>\n",
       "      <td>4</td>\n",
       "      <td>20</td>\n",
       "      <td>28</td>\n",
       "      <td>p</td>\n",
       "      <td>compact</td>\n",
       "      <td>24.0</td>\n",
       "    </tr>\n",
       "  </tbody>\n",
       "</table>\n",
       "</div>"
      ],
      "text/plain": [
       "   manufacturer       model  displ  year  cyl       trans drv  cty  hwy fl  \\\n",
       "2          audi          a4    1.8  1999    4  manual(m5)   f   21   29  p   \n",
       "3          audi          a4    2.0  2008    4  manual(m6)   f   20   31  p   \n",
       "6          audi          a4    2.8  1999    6  manual(m5)   f   18   26  p   \n",
       "8          audi  a4 quattro    1.8  1999    4  manual(m5)   4   18   26  p   \n",
       "10         audi  a4 quattro    2.0  2008    4  manual(m6)   4   20   28  p   \n",
       "\n",
       "      class  fuel_efficiency  \n",
       "2   compact             25.0  \n",
       "3   compact             25.5  \n",
       "6   compact             22.0  \n",
       "8   compact             22.0  \n",
       "10  compact             24.0  "
      ]
     },
     "execution_count": 26,
     "metadata": {},
     "output_type": "execute_result"
    }
   ],
   "source": [
    "manual = mpg[mpg['trans'].str.startswith('manual')]\n",
    "manual.head()"
   ]
  },
  {
   "cell_type": "code",
   "execution_count": 27,
   "id": "34672ec5",
   "metadata": {},
   "outputs": [
    {
     "data": {
      "text/plain": [
       "<AxesSubplot:>"
      ]
     },
     "execution_count": 27,
     "metadata": {},
     "output_type": "execute_result"
    },
    {
     "data": {
      "image/png": "[encoded data removed]",
      "text/plain": [
       "<Figure size 640x480 with 1 Axes>"
      ]
     },
     "metadata": {},
     "output_type": "display_data"
    }
   ],
   "source": [
    "manual['fuel_efficiency'].hist(alpha=.5)\n",
    "automatic['fuel_efficiency'].hist(alpha=.5)"
   ]
  },
  {
   "cell_type": "code",
   "execution_count": 28,
   "id": "3e580eaf",
   "metadata": {},
   "outputs": [
    {
     "name": "stdout",
     "output_type": "stream",
     "text": [
      "there is a significant difference (pvalue: 1.7952248999917893e-05\n"
     ]
    }
   ],
   "source": [
    "t, p = stats.ttest_ind(automatic['fuel_efficiency'], manual['fuel_efficiency'], equal_var=False)\n",
    "\n",
    "if p < alpha:\n",
    "    print(f'there is a significant difference (pvalue: {p}')\n",
    "else:\n",
    "    print(f'there is not a significant difference (pvalue: {p})')"
   ]
  },
  {
   "cell_type": "code",
   "execution_count": 76,
   "id": "ee2d47f7",
   "metadata": {},
   "outputs": [
    {
     "data": {
      "image/png": "[encoded data removed]",
      "text/plain": [
       "<Figure size 640x480 with 1 Axes>"
      ]
     },
     "metadata": {},
     "output_type": "display_data"
    }
   ],
   "source": [
    "import statistics\n",
    "from scipy.stats import norm\n",
    "x_axis = np.arange(5, 40, 0.01)\n",
    "  \n",
    "# Calculating mean and standard deviation\n",
    "mean = statistics.mean(automatic['fuel_efficiency'])\n",
    "sd = statistics.stdev(automatic['fuel_efficiency'])\n",
    "  \n",
    "plt.plot(x_axis, norm.pdf(x_axis, mean, sd))\n",
    "\n",
    "mean2 = statistics.mean(manual['fuel_efficiency'])\n",
    "sd2 = statistics.stdev(manual['fuel_efficiency'])\n",
    "plt.plot(x_axis, norm.pdf(x_axis, mean2, sd2))\n",
    "\n",
    "plt.axvline(x=mean, ymax=.95, dashes= (5, 2))\n",
    "plt.axvline(x=mean2, ymax=.87, dashes=(5,2), c='orange')\n",
    "\n",
    "\n",
    "\n",
    "\n",
    "plt.show()"
   ]
  },
  {
   "cell_type": "code",
   "execution_count": null,
   "id": "c587c0b9",
   "metadata": {},
   "outputs": [],
   "source": []
  }
 ],
 "metadata": {
  "kernelspec": {
   "display_name": "Python 3 (ipykernel)",
   "language": "python",
   "name": "python3"
  },
  "language_info": {
   "codemirror_mode": {
    "name": "ipython",
    "version": 3
   },
   "file_extension": ".py",
   "mimetype": "text/x-python",
   "name": "python",
   "nbconvert_exporter": "python",
   "pygments_lexer": "ipython3",
   "version": "3.9.13"
  }
 },
 "nbformat": 4,
 "nbformat_minor": 5
}
