{
 "cells": [
  {
   "cell_type": "markdown",
   "id": "f4b9cd93",
   "metadata": {},
   "source": [
    "## For each of the following questions, formulate a null and alternative hypothesis (be as specific as you can be), then give an example of what a true positive, true negative, type I and type II errors would look like. Note that some of the questions are intentionally phrased in a vague way. It is your job to reword these as more precise questions that could be tested."
   ]
  },
  {
   "cell_type": "markdown",
   "id": "c8108cc2",
   "metadata": {},
   "source": [
    "### Has the network latency gone up since we switched internet service providers?"
   ]
  },
  {
   "cell_type": "markdown",
   "id": "773744e2",
   "metadata": {},
   "source": [
    "Ho - There is no difference in network latency since we switched internet service providers\n",
    "\n",
    "Ha - There is a difference in network latency since we switched internet service providers\n",
    "\n",
    "true positive- the Ho is true and we choose to not reject it\n",
    "true negative- the Ha is true and we choose to reject the Ho\n",
    "type 1 error- There is no difference in network latency, but we said there was.\n",
    "type 2 error- There is a difference in network latency, but we said there wasn't."
   ]
  },
  {
   "cell_type": "markdown",
   "id": "63682fcd",
   "metadata": {},
   "source": [
    "### Is the website redesign any good?"
   ]
  },
  {
   "cell_type": "markdown",
   "id": "ce703e18",
   "metadata": {},
   "source": [
    "Ho - We are not getting more click throughs (website traffic) after the redesign than before\n",
    "\n",
    "Ha - We are getting more click throughs (website traffic) after the redesign than before\n",
    "\n",
    "true positive- the Ho is true and we choose to not reject it\n",
    "true negative- the Ha is true and we choose to reject the Ho\n",
    "type 1 error- There is no increase in web traffic, but we thought there was.\n",
    "type 2 error- There is an increase in web traffic, but we said there wasn't."
   ]
  },
  {
   "cell_type": "markdown",
   "id": "a73f2ff1",
   "metadata": {},
   "source": [
    "### Is our television ad driving more sales?"
   ]
  },
  {
   "cell_type": "markdown",
   "id": "b7b421e8",
   "metadata": {},
   "source": [
    "Ho - We are not seeing an increase in sales within 24 hours after our TV ad airs during an episode of Walker Texas Ranger than if our ad does not air during an episode of Walker Texas Ranger.\n",
    "\n",
    "Ha - We are seeing an increase in sales within 24 hours after our TV ad airs during an episode of Walker Texas Ranger than if our ad does not air during an episode of Walker Texas Ranger.\n",
    "\n",
    "true positive- the Ho is true and we choose to not reject it\n",
    "true negative- the Ha is true and we choose to reject the Ho\n",
    "type 1 error- We claim with confidence that there is an increase in sales within 24 hours after our ad airs when there is indeed no increase. It may have been the weather... We falsly rejected the Ho.\n",
    "type 2 error- There was an increase in sales, but we chose to accept the Ho and thought there was no increase. We falsly did not reject our Ho."
   ]
  }
 ],
 "metadata": {
  "kernelspec": {
   "display_name": "Python 3 (ipykernel)",
   "language": "python",
   "name": "python3"
  },
  "language_info": {
   "codemirror_mode": {
    "name": "ipython",
    "version": 3
   },
   "file_extension": ".py",
   "mimetype": "text/x-python",
   "name": "python",
   "nbconvert_exporter": "python",
   "pygments_lexer": "ipython3",
   "version": "3.9.13"
  }
 },
 "nbformat": 4,
 "nbformat_minor": 5
}
